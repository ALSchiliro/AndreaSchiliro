{
 "cells": [
  {
   "cell_type": "markdown",
   "metadata": {},
   "source": [
    "## Problem:\n",
    "#### Accounts that contain Patient Protected Information (PPI) are highly susceptible to breaches, as they contain much more information about a person than any other targets for hackers (credit card information, bank information, etc.). These are also known as HIPAA breaches.\n",
    "* A hot topic for discussion in the healthcare industry for the past few years has been the hacking of Electronic Medical Records (EMR) and the siginificant economic costs associated with these types of breaches\n",
    "* Hypotheses: (1) Number of breaches would be directly correlated with the number of affected individuals (2) EMR would be the most targeted location of information (3) Largest fines would be associated with the most breaches/most people affected by a breach"
   ]
  },
  {
   "cell_type": "code",
   "execution_count": 1,
   "metadata": {},
   "outputs": [],
   "source": [
    "import matplotlib as mpl\n",
    "import matplotlib.pyplot as plt \n",
    "%matplotlib inline\n",
    "import numpy as np\n",
    "import seaborn as sns\n",
    "import pandas as pd"
   ]
  },
  {
   "cell_type": "code",
   "execution_count": 9,
   "metadata": {},
   "outputs": [],
   "source": [
    "breach_df = pd.read_excel(\"Breach_Report.xlsx\")\n",
    "fines_df = pd.read_excel(\"HIPAA_Breach_Settlements.xlsx\")"
   ]
  },
  {
   "cell_type": "code",
   "execution_count": 10,
   "metadata": {},
   "outputs": [],
   "source": [
    "fines_df[\"Fine Total\"] = fines_df[\"Fine Total\"].astype(int)\n",
    "fines_df['Date'] = pd.to_datetime(fines_df['Date'])\n",
    "breach_df['Breach Submission Date'] = pd.to_datetime(breach_df['Breach Submission Date'])"
   ]
  },
  {
   "cell_type": "code",
   "execution_count": 11,
   "metadata": {},
   "outputs": [],
   "source": [
    "fines_df.set_index(\"Date\", inplace=True)"
   ]
  },
  {
   "cell_type": "code",
   "execution_count": 12,
   "metadata": {},
   "outputs": [
    {
     "data": {
      "text/plain": [
       "Index(['Name of Covered Entity', 'State', 'Covered Entity Type',\n",
       "       'Covered Entity Code', 'Individuals Affected', 'Breach Submission Date',\n",
       "       'Type of Breach', 'Type of Breach Code', 'Location of Breach',\n",
       "       'Location of Breach Code', 'Business Associate Present',\n",
       "       'Business Associate Code', 'Web Description'],\n",
       "      dtype='object')"
      ]
     },
     "execution_count": 12,
     "metadata": {},
     "output_type": "execute_result"
    }
   ],
   "source": [
    "breach_df.columns"
   ]
  },
  {
   "cell_type": "code",
   "execution_count": 61,
   "metadata": {},
   "outputs": [],
   "source": [
    "breach_df['Year'] = pd.DatetimeIndex(breach_df['Breach Submission Date']).year"
   ]
  },
  {
   "cell_type": "code",
   "execution_count": 14,
   "metadata": {
    "scrolled": true
   },
   "outputs": [
    {
     "data": {
      "text/html": [
       "<div>\n",
       "<style scoped>\n",
       "    .dataframe tbody tr th:only-of-type {\n",
       "        vertical-align: middle;\n",
       "    }\n",
       "\n",
       "    .dataframe tbody tr th {\n",
       "        vertical-align: top;\n",
       "    }\n",
       "\n",
       "    .dataframe thead th {\n",
       "        text-align: right;\n",
       "    }\n",
       "</style>\n",
       "<table border=\"1\" class=\"dataframe\">\n",
       "  <thead>\n",
       "    <tr style=\"text-align: right;\">\n",
       "      <th></th>\n",
       "      <th>Name of Covered Entity</th>\n",
       "      <th>State</th>\n",
       "      <th>Covered Entity Type</th>\n",
       "      <th>Covered Entity Code</th>\n",
       "      <th>Individuals Affected</th>\n",
       "      <th>Breach Submission Date</th>\n",
       "      <th>Type of Breach</th>\n",
       "      <th>Type of Breach Code</th>\n",
       "      <th>Location of Breach</th>\n",
       "      <th>Location of Breach Code</th>\n",
       "      <th>Business Associate Present</th>\n",
       "      <th>Business Associate Code</th>\n",
       "      <th>Web Description</th>\n",
       "      <th>Year</th>\n",
       "    </tr>\n",
       "  </thead>\n",
       "  <tbody>\n",
       "    <tr>\n",
       "      <th>0</th>\n",
       "      <td>Inspira Behavioral Care, Corp</td>\n",
       "      <td>NaN</td>\n",
       "      <td>Healthcare Provider</td>\n",
       "      <td>1.0</td>\n",
       "      <td>4246.0</td>\n",
       "      <td>2019-05-02</td>\n",
       "      <td>Theft</td>\n",
       "      <td>1.0</td>\n",
       "      <td>Desktop Computer</td>\n",
       "      <td>5.0</td>\n",
       "      <td>No</td>\n",
       "      <td>0</td>\n",
       "      <td>Inspira Behavioral Care, Corp., the covered en...</td>\n",
       "      <td>2019</td>\n",
       "    </tr>\n",
       "  </tbody>\n",
       "</table>\n",
       "</div>"
      ],
      "text/plain": [
       "          Name of Covered Entity State  Covered Entity Type  \\\n",
       "0  Inspira Behavioral Care, Corp   NaN  Healthcare Provider   \n",
       "\n",
       "   Covered Entity Code  Individuals Affected Breach Submission Date  \\\n",
       "0                  1.0                4246.0             2019-05-02   \n",
       "\n",
       "  Type of Breach  Type of Breach Code Location of Breach  \\\n",
       "0          Theft                  1.0   Desktop Computer   \n",
       "\n",
       "   Location of Breach Code Business Associate Present  \\\n",
       "0                      5.0                         No   \n",
       "\n",
       "   Business Associate Code                                    Web Description  \\\n",
       "0                        0  Inspira Behavioral Care, Corp., the covered en...   \n",
       "\n",
       "   Year  \n",
       "0  2019  "
      ]
     },
     "execution_count": 14,
     "metadata": {},
     "output_type": "execute_result"
    }
   ],
   "source": [
    "breach_df.head(1)"
   ]
  },
  {
   "cell_type": "markdown",
   "metadata": {},
   "source": [
    "### Hypothesis 1: HIPAA breaches would likely be directly correlated with the number of individuals affected by those breaches - FALSE\n",
    "* The number of HIPAA breach reports is clearly increasing over time, yet the number of affected individuals has almost no trend at all\n",
    "* Each subsequent category breakdown shows that there is no correlation whatsoever"
   ]
  },
  {
   "cell_type": "code",
   "execution_count": 62,
   "metadata": {},
   "outputs": [
    {
     "data": {
      "text/plain": [
       "<matplotlib.axes._subplots.AxesSubplot at 0x1375030d548>"
      ]
     },
     "execution_count": 62,
     "metadata": {},
     "output_type": "execute_result"
    },
    {
     "data": {
      "image/png": "[encoded data removed]",
      "text/plain": [
       "<Figure size 720x216 with 1 Axes>"
      ]
     },
     "metadata": {
      "needs_background": "light"
     },
     "output_type": "display_data"
    }
   ],
   "source": [
    "breach_df['Year'].value_counts().plot(kind='bar', figsize=(10,3))"
   ]
  },
  {
   "cell_type": "code",
   "execution_count": 74,
   "metadata": {},
   "outputs": [
    {
     "data": {
      "text/plain": [
       "<matplotlib.axes._subplots.AxesSubplot at 0x13751581408>"
      ]
     },
     "execution_count": 74,
     "metadata": {},
     "output_type": "execute_result"
    },
    {
     "data": {
      "image/png": "[encoded data removed]",
      "text/plain": [
       "<Figure size 216x216 with 1 Axes>"
      ]
     },
     "metadata": {
      "needs_background": "light"
     },
     "output_type": "display_data"
    }
   ],
   "source": [
    "breach_df['Individuals Affected'].plot(kind='box', figsize=(3,3))"
   ]
  },
  {
   "cell_type": "code",
   "execution_count": 76,
   "metadata": {},
   "outputs": [
    {
     "data": {
      "text/plain": [
       "<matplotlib.axes._subplots.AxesSubplot at 0x13751651648>"
      ]
     },
     "execution_count": 76,
     "metadata": {},
     "output_type": "execute_result"
    },
    {
     "data": {
      "image/png": "[encoded data removed]",
      "text/plain": [
       "<Figure size 720x216 with 1 Axes>"
      ]
     },
     "metadata": {
      "needs_background": "light"
     },
     "output_type": "display_data"
    }
   ],
   "source": [
    "breach_df.groupby(['Year'])['Individuals Affected'].sum().plot(kind='bar', figsize=(10,3))"
   ]
  },
  {
   "cell_type": "markdown",
   "metadata": {},
   "source": [
    "### No correlation between the number of breaches and affected people when compared by Covered Entity\n",
    "* Healthcare Providers are the most prominent entity breached, about 2000 reports since 2009 affecting 50M people\n",
    "* There have only been 400 Health Plan breaches since 2009, yet almost 200M people have been affected"
   ]
  },
  {
   "cell_type": "code",
   "execution_count": 17,
   "metadata": {},
   "outputs": [
    {
     "data": {
      "text/plain": [
       "Index(['Name of Covered Entity', 'State', 'Covered Entity Type',\n",
       "       'Covered Entity Code', 'Individuals Affected', 'Breach Submission Date',\n",
       "       'Type of Breach', 'Type of Breach Code', 'Location of Breach',\n",
       "       'Location of Breach Code', 'Business Associate Present',\n",
       "       'Business Associate Code', 'Web Description', 'Year'],\n",
       "      dtype='object')"
      ]
     },
     "execution_count": 17,
     "metadata": {},
     "output_type": "execute_result"
    }
   ],
   "source": [
    "breach_df.columns"
   ]
  },
  {
   "cell_type": "code",
   "execution_count": 18,
   "metadata": {},
   "outputs": [
    {
     "data": {
      "text/plain": [
       "<matplotlib.axes._subplots.AxesSubplot at 0x1374e64ef88>"
      ]
     },
     "execution_count": 18,
     "metadata": {},
     "output_type": "execute_result"
    },
    {
     "data": {
      "image/png": "[encoded data removed]",
      "text/plain": [
       "<Figure size 720x216 with 1 Axes>"
      ]
     },
     "metadata": {
      "needs_background": "light"
     },
     "output_type": "display_data"
    }
   ],
   "source": [
    "breach_df['Covered Entity Type'].value_counts().plot(kind='barh',figsize=(10,3))"
   ]
  },
  {
   "cell_type": "code",
   "execution_count": 78,
   "metadata": {},
   "outputs": [
    {
     "data": {
      "text/plain": [
       "<matplotlib.axes._subplots.AxesSubplot at 0x13751749f88>"
      ]
     },
     "execution_count": 78,
     "metadata": {},
     "output_type": "execute_result"
    },
    {
     "data": {
      "image/png": "[encoded data removed]",
      "text/plain": [
       "<Figure size 720x216 with 1 Axes>"
      ]
     },
     "metadata": {
      "needs_background": "light"
     },
     "output_type": "display_data"
    }
   ],
   "source": [
    "breach_df.groupby(['Covered Entity Type'])['Individuals Affected'].sum().plot(kind='barh', figsize=(10,3))"
   ]
  },
  {
   "cell_type": "markdown",
   "metadata": {},
   "source": [
    "### No correlation between the number of breaches and affected people when compared by State\n",
    "* CA, TX, and FL show significant outliers in regards to the number of HIPAA breach reports filed\n",
    "* When looking at the number of inidividuals affected: IN far surpasses any state, by millions\n",
    "* This is all due to a single Health Plan breach"
   ]
  },
  {
   "cell_type": "code",
   "execution_count": 20,
   "metadata": {},
   "outputs": [
    {
     "data": {
      "text/plain": [
       "<matplotlib.axes._subplots.AxesSubplot at 0x1374e721548>"
      ]
     },
     "execution_count": 20,
     "metadata": {},
     "output_type": "execute_result"
    },
    {
     "data": {
      "image/png": "[encoded data removed]",
      "text/plain": [
       "<Figure size 720x216 with 1 Axes>"
      ]
     },
     "metadata": {
      "needs_background": "light"
     },
     "output_type": "display_data"
    }
   ],
   "source": [
    "breach_df['State'].value_counts()[:10].plot(kind='barh',figsize=(10,3))"
   ]
  },
  {
   "cell_type": "code",
   "execution_count": 23,
   "metadata": {},
   "outputs": [
    {
     "data": {
      "text/plain": [
       "<matplotlib.axes._subplots.AxesSubplot at 0x1374e045348>"
      ]
     },
     "execution_count": 23,
     "metadata": {},
     "output_type": "execute_result"
    },
    {
     "data": {
      "image/png": "[encoded data removed]",
      "text/plain": [
       "<Figure size 216x864 with 1 Axes>"
      ]
     },
     "metadata": {
      "needs_background": "light"
     },
     "output_type": "display_data"
    }
   ],
   "source": [
    "breach_df.groupby(['State'])['Individuals Affected'].sum().plot(kind='barh', figsize=(3,12))"
   ]
  },
  {
   "cell_type": "markdown",
   "metadata": {},
   "source": [
    "### No correlation between the number of breaches and affected people when compared by Breach Type\n",
    "* Hacking/IT incident is the third most common type of breach, Theft being the most common\n",
    "* One Hacking/IT incident, of a Network Server, of a Health Plan resulted in over 100M people affected"
   ]
  },
  {
   "cell_type": "code",
   "execution_count": 24,
   "metadata": {},
   "outputs": [
    {
     "data": {
      "text/plain": [
       "Index(['Name of Covered Entity', 'State', 'Covered Entity Type',\n",
       "       'Covered Entity Code', 'Individuals Affected', 'Breach Submission Date',\n",
       "       'Type of Breach', 'Type of Breach Code', 'Location of Breach',\n",
       "       'Location of Breach Code', 'Business Associate Present',\n",
       "       'Business Associate Code', 'Web Description', 'Year'],\n",
       "      dtype='object')"
      ]
     },
     "execution_count": 24,
     "metadata": {},
     "output_type": "execute_result"
    }
   ],
   "source": [
    "breach_df.columns"
   ]
  },
  {
   "cell_type": "code",
   "execution_count": 25,
   "metadata": {},
   "outputs": [
    {
     "data": {
      "text/plain": [
       "<matplotlib.axes._subplots.AxesSubplot at 0x1374f98bb48>"
      ]
     },
     "execution_count": 25,
     "metadata": {},
     "output_type": "execute_result"
    },
    {
     "data": {
      "image/png": "[encoded data removed]",
      "text/plain": [
       "<Figure size 720x216 with 1 Axes>"
      ]
     },
     "metadata": {
      "needs_background": "light"
     },
     "output_type": "display_data"
    }
   ],
   "source": [
    "breach_df['Type of Breach'].value_counts()[:6].plot(kind='barh',figsize=(10,3))"
   ]
  },
  {
   "cell_type": "code",
   "execution_count": 26,
   "metadata": {},
   "outputs": [
    {
     "data": {
      "text/plain": [
       "<matplotlib.axes._subplots.AxesSubplot at 0x1374f9f70c8>"
      ]
     },
     "execution_count": 26,
     "metadata": {},
     "output_type": "execute_result"
    },
    {
     "data": {
      "image/png": "[encoded data removed]",
      "text/plain": [
       "<Figure size 720x72 with 1 Axes>"
      ]
     },
     "metadata": {
      "needs_background": "light"
     },
     "output_type": "display_data"
    }
   ],
   "source": [
    "breach_df.groupby(['Type of Breach'])['Individuals Affected'].sum()[:1].plot(kind='barh', figsize=(10,1))"
   ]
  },
  {
   "cell_type": "markdown",
   "metadata": {},
   "source": [
    "### Hypothesis 2: EMR will be most targeted location - FALSE\n",
    "* First glances at the breach data show that of major HIPAA breach locations, EMR breaches are actually the least common target\n",
    "* Note that Network Server breaches are second most common location of housed PPI"
   ]
  },
  {
   "cell_type": "code",
   "execution_count": 27,
   "metadata": {},
   "outputs": [
    {
     "data": {
      "text/plain": [
       "<matplotlib.axes._subplots.AxesSubplot at 0x1374fa4b608>"
      ]
     },
     "execution_count": 27,
     "metadata": {},
     "output_type": "execute_result"
    },
    {
     "data": {
      "image/png": "[encoded data removed]",
      "text/plain": [
       "<Figure size 432x288 with 1 Axes>"
      ]
     },
     "metadata": {
      "needs_background": "light"
     },
     "output_type": "display_data"
    }
   ],
   "source": [
    "breach_df['Location of Breach'].value_counts()[:8].plot(kind='barh')"
   ]
  },
  {
   "cell_type": "markdown",
   "metadata": {},
   "source": [
    "### Hypothesis 3: Largest fines will directly correlate with the most people affected by breach - TRUE\n",
    "* 2016 saw the most HIPPA cases settled with various fines, but these settles breaches did not affect the most people\n",
    "* 2018 saw the highest costs associated with fines (when 2015 HIPAA Health Plan breach was settled)"
   ]
  },
  {
   "cell_type": "code",
   "execution_count": 54,
   "metadata": {},
   "outputs": [
    {
     "data": {
      "text/plain": [
       "Index(['Year', 'Organization', 'Fine Total', 'Link to OCR Settlement'], dtype='object')"
      ]
     },
     "execution_count": 54,
     "metadata": {},
     "output_type": "execute_result"
    }
   ],
   "source": [
    "fines_df.columns"
   ]
  },
  {
   "cell_type": "code",
   "execution_count": 52,
   "metadata": {},
   "outputs": [
    {
     "data": {
      "text/plain": [
       "<matplotlib.axes._subplots.AxesSubplot at 0x137501a6688>"
      ]
     },
     "execution_count": 52,
     "metadata": {},
     "output_type": "execute_result"
    },
    {
     "data": {
      "image/png": "[encoded data removed]",
      "text/plain": [
       "<Figure size 432x288 with 1 Axes>"
      ]
     },
     "metadata": {
      "needs_background": "light"
     },
     "output_type": "display_data"
    }
   ],
   "source": [
    "fines_df.groupby(['Year'])['Fine Total'].count().plot(kind='line')"
   ]
  },
  {
   "cell_type": "code",
   "execution_count": 51,
   "metadata": {},
   "outputs": [
    {
     "data": {
      "text/plain": [
       "<matplotlib.axes._subplots.AxesSubplot at 0x13750141a88>"
      ]
     },
     "execution_count": 51,
     "metadata": {},
     "output_type": "execute_result"
    },
    {
     "data": {
      "image/png": "[encoded data removed]",
      "text/plain": [
       "<Figure size 432x288 with 1 Axes>"
      ]
     },
     "metadata": {
      "needs_background": "light"
     },
     "output_type": "display_data"
    }
   ],
   "source": [
    "fines_df.groupby(['Year'])['Fine Total'].sum().plot(kind='line')"
   ]
  },
  {
   "cell_type": "markdown",
   "metadata": {},
   "source": [
    "### Conclusion\n",
    "* Preventative hacking measures need to be directed at protecting network serves, first and foremost \n",
    "* Hacking/IT incidents are the most detrimental, which makes sense with our technology-driven society\n",
    "* Health Plans house incredible amounts of PPI, one breach here and millions of lives are affected. Number of breaches, location of breaches, and tpyes of breaches do not matter at all if we cannot protect Health Plan Network Servers"
   ]
  }
 ],
 "metadata": {
  "kernelspec": {
   "display_name": "Python 3",
   "language": "python",
   "name": "python3"
  },
  "language_info": {
   "codemirror_mode": {
    "name": "ipython",
    "version": 3
   },
   "file_extension": ".py",
   "mimetype": "text/x-python",
   "name": "python",
   "nbconvert_exporter": "python",
   "pygments_lexer": "ipython3",
   "version": "3.7.6"
  }
 },
 "nbformat": 4,
 "nbformat_minor": 4
}
